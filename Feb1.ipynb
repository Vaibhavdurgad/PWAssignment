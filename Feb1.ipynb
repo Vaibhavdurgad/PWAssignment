{
 "cells": [
  {
   "cell_type": "code",
   "execution_count": 1,
   "id": "d04a5f86-9337-4656-8d63-c6cb15388dea",
   "metadata": {},
   "outputs": [],
   "source": [
    "Str=\"vaibhav\""
   ]
  },
  {
   "cell_type": "code",
   "execution_count": 3,
   "id": "e735cd16-430f-48ac-a925-f9342a8c2749",
   "metadata": {},
   "outputs": [
    {
     "data": {
      "text/plain": [
       "'vaibhav'"
      ]
     },
     "execution_count": 3,
     "metadata": {},
     "output_type": "execute_result"
    }
   ],
   "source": [
    "Str"
   ]
  },
  {
   "cell_type": "code",
   "execution_count": 6,
   "id": "9df95c71-d172-4ddd-9d23-f0adda6b5289",
   "metadata": {},
   "outputs": [
    {
     "name": "stdin",
     "output_type": "stream",
     "text": [
      "Enter Your Marks 70\n"
     ]
    },
    {
     "name": "stdout",
     "output_type": "stream",
     "text": [
      "In B1 Batch\n"
     ]
    }
   ],
   "source": [
    "marks=int(input(\"Enter Your Marks\"))\n",
    "if marks>=80:\n",
    "    print(\"In A1 Batch\")\n",
    "if marks>=60 and marks<80:\n",
    "    print(\"In B1 Batch\")\n",
    "elif marks>=40 and marks<60:\n",
    "    print(\"In C1 Batch\")\n",
    "else :\n",
    "    print(\"You will be not a part of course\")"
   ]
  },
  {
   "cell_type": "code",
   "execution_count": 7,
   "id": "60657e6b-6166-4a7f-9243-7dd5fc5a468b",
   "metadata": {},
   "outputs": [
    {
     "data": {
      "text/plain": [
       "70"
      ]
     },
     "execution_count": 7,
     "metadata": {},
     "output_type": "execute_result"
    }
   ],
   "source": [
    "marks"
   ]
  },
  {
   "cell_type": "code",
   "execution_count": 8,
   "id": "956c2e88-e6a5-4944-af48-ed5ac60259f4",
   "metadata": {},
   "outputs": [
    {
     "data": {
      "text/plain": [
       "int"
      ]
     },
     "execution_count": 8,
     "metadata": {},
     "output_type": "execute_result"
    }
   ],
   "source": [
    "type(marks)"
   ]
  },
  {
   "cell_type": "code",
   "execution_count": 9,
   "id": "38dbe1b6-f615-4eba-a0bc-b327ff5c347b",
   "metadata": {},
   "outputs": [
    {
     "name": "stdin",
     "output_type": "stream",
     "text": [
      "Enter a price: 500\n"
     ]
    },
    {
     "name": "stdout",
     "output_type": "stream",
     "text": [
      "I will purchase\n"
     ]
    }
   ],
   "source": [
    "price=int(input(\"Enter a price:\"))\n",
    "if price>1000:\n",
    "    print(\"I will not purchase\")\n",
    "else:\n",
    "    print(\"I will purchase\")"
   ]
  },
  {
   "cell_type": "code",
   "execution_count": 10,
   "id": "f2dc7d21-6ec8-442b-a258-d87e960a183c",
   "metadata": {},
   "outputs": [
    {
     "name": "stdin",
     "output_type": "stream",
     "text": [
      "Enter a price: 500\n"
     ]
    }
   ],
   "source": [
    "price=int(input(\"Enter a price:\"))\n",
    "if price>1000:\n",
    "    print(\"I will not purchase\")\n"
   ]
  },
  {
   "cell_type": "code",
   "execution_count": 11,
   "id": "00bb37cc-498c-42e3-ab85-aa213d1b7fa2",
   "metadata": {},
   "outputs": [
    {
     "name": "stdin",
     "output_type": "stream",
     "text": [
      "Enter a price: 7000\n"
     ]
    },
    {
     "name": "stdout",
     "output_type": "stream",
     "text": [
      "I will not purchase\n"
     ]
    }
   ],
   "source": [
    "price=int(input(\"Enter a price:\"))\n",
    "if price>1000:\n",
    "    print(\"I will not purchase\")"
   ]
  },
  {
   "cell_type": "code",
   "execution_count": 14,
   "id": "baf72d0a-e6ea-43ab-9181-39e87e5dc051",
   "metadata": {},
   "outputs": [
    {
     "name": "stdin",
     "output_type": "stream",
     "text": [
      "Enter a price: 1500\n"
     ]
    },
    {
     "name": "stdout",
     "output_type": "stream",
     "text": [
      "I will not purchase\n",
      "Its Ok\n"
     ]
    }
   ],
   "source": [
    "price=int(input(\"Enter a price:\"))\n",
    "if price>1000:\n",
    "    print(\"I will not purchase\")\n",
    "    if price>5000:\n",
    "        print(\"this is too much\")\n",
    "    elif price <2000:\n",
    "        print(\"Its Ok\")"
   ]
  },
  {
   "cell_type": "code",
   "execution_count": 17,
   "id": "623c2335-5694-45b8-b89f-e1b09f212b16",
   "metadata": {},
   "outputs": [
    {
     "name": "stdin",
     "output_type": "stream",
     "text": [
      "Enter a price: 400\n"
     ]
    },
    {
     "name": "stdout",
     "output_type": "stream",
     "text": [
      "I will purchase\n"
     ]
    }
   ],
   "source": [
    "price=int(input(\"Enter a price:\"))\n",
    "if price>1000:\n",
    "    print(\"I will not purchase\")\n",
    "    if price>5000:\n",
    "        print(\"this is too much\")\n",
    "    elif price <2000:\n",
    "        print(\"Its Ok\")\n",
    "elif price <1000:\n",
    "    print(\"I will purchase\")\n",
    "else :\n",
    "    print(\"Not Intersetd\")"
   ]
  },
  {
   "cell_type": "code",
   "execution_count": 28,
   "id": "ad43fdf8-ad83-4048-8882-ff43064e3198",
   "metadata": {},
   "outputs": [
    {
     "name": "stdout",
     "output_type": "stream",
     "text": [
      "2\n",
      "3\n",
      "4\n",
      "5\n",
      "6\n",
      "7\n"
     ]
    },
    {
     "data": {
      "text/plain": [
       "[2, 3, 4, 5, 6, 7]"
      ]
     },
     "execution_count": 28,
     "metadata": {},
     "output_type": "execute_result"
    }
   ],
   "source": [
    "l=[1,2,3,4,5,6]\n",
    "l1=[]\n",
    "for i in l:\n",
    "    print(i+1)\n",
    "    l1.append(i+1)\n",
    "l1   \n",
    "  "
   ]
  },
  {
   "cell_type": "code",
   "execution_count": 29,
   "id": "2cdf6227-1bf3-41ce-834b-7ee2c7ca1c92",
   "metadata": {},
   "outputs": [
    {
     "data": {
      "text/plain": [
       "[2, 3, 4, 5, 6, 7]"
      ]
     },
     "execution_count": 29,
     "metadata": {},
     "output_type": "execute_result"
    }
   ],
   "source": [
    "l1"
   ]
  },
  {
   "cell_type": "code",
   "execution_count": 30,
   "id": "3e2f77ad-7907-48f5-a76d-358aa3308a27",
   "metadata": {},
   "outputs": [
    {
     "name": "stdout",
     "output_type": "stream",
     "text": [
      "2\n",
      "3\n",
      "4\n",
      "5\n",
      "6\n",
      "7\n"
     ]
    }
   ],
   "source": [
    "l=[1,2,3,4,5,6]\n",
    "for i in l:\n",
    "    print(i+1)"
   ]
  },
  {
   "cell_type": "code",
   "execution_count": 31,
   "id": "e41ffdff-6834-47ca-a791-24577332c133",
   "metadata": {},
   "outputs": [
    {
     "data": {
      "text/plain": [
       "[1, 2, 3, 4, 5, 6]"
      ]
     },
     "execution_count": 31,
     "metadata": {},
     "output_type": "execute_result"
    }
   ],
   "source": [
    "l"
   ]
  },
  {
   "cell_type": "code",
   "execution_count": 8,
   "id": "6b3af8e9-3549-4fe4-8ce9-c29404b24a12",
   "metadata": {},
   "outputs": [],
   "source": [
    "l=[1,2,3,4,5,8,9]"
   ]
  },
  {
   "cell_type": "code",
   "execution_count": 9,
   "id": "db69f09b-34fe-48fb-a563-08fd8c03a31b",
   "metadata": {},
   "outputs": [
    {
     "name": "stdout",
     "output_type": "stream",
     "text": [
      "2\n",
      "3\n",
      "4\n",
      "5\n",
      "6\n",
      "9\n",
      "10\n"
     ]
    },
    {
     "data": {
      "text/plain": [
       "[2, 3, 4, 5, 6, 9, 10]"
      ]
     },
     "execution_count": 9,
     "metadata": {},
     "output_type": "execute_result"
    }
   ],
   "source": [
    "l1=[]\n",
    "for i in l:\n",
    "    print(i+1)\n",
    "    l1.append(i+1)\n",
    "l1  "
   ]
  },
  {
   "cell_type": "code",
   "execution_count": 10,
   "id": "dbee0a1c-1ee0-4d07-bc48-c21e10ae7eed",
   "metadata": {},
   "outputs": [
    {
     "data": {
      "text/plain": [
       "[2, 3, 4, 5, 6, 9, 10]"
      ]
     },
     "execution_count": 10,
     "metadata": {},
     "output_type": "execute_result"
    }
   ],
   "source": [
    "l1"
   ]
  },
  {
   "cell_type": "code",
   "execution_count": 11,
   "id": "cbc2b7e7-f7bb-4a4f-8c1f-c735557662cf",
   "metadata": {},
   "outputs": [],
   "source": [
    "l2=[\"Vaibhav\",\"Vinay\",\"Vidya\"]"
   ]
  },
  {
   "cell_type": "code",
   "execution_count": 14,
   "id": "0cdde76b-c2d9-407e-a3ee-936b35e1f7a9",
   "metadata": {},
   "outputs": [
    {
     "name": "stdout",
     "output_type": "stream",
     "text": [
      "Vaibhav\n",
      "Vinay\n",
      "Vidya\n"
     ]
    },
    {
     "data": {
      "text/plain": [
       "['VAIBHAV', 'VINAY', 'VIDYA']"
      ]
     },
     "execution_count": 14,
     "metadata": {},
     "output_type": "execute_result"
    }
   ],
   "source": [
    "l3=[]\n",
    "for i in l2:\n",
    "    print(i)\n",
    "    l3.append(i.upper())\n",
    "l3    "
   ]
  },
  {
   "cell_type": "code",
   "execution_count": 15,
   "id": "f633f252-4994-4680-bcac-8f0f1ba9563e",
   "metadata": {},
   "outputs": [
    {
     "data": {
      "text/plain": [
       "['VAIBHAV', 'VINAY', 'VIDYA']"
      ]
     },
     "execution_count": 15,
     "metadata": {},
     "output_type": "execute_result"
    }
   ],
   "source": [
    "l3"
   ]
  },
  {
   "cell_type": "code",
   "execution_count": 16,
   "id": "323d35f0-51e5-4963-8489-03e99001b258",
   "metadata": {},
   "outputs": [],
   "source": [
    "l=[1,2,4,4,\"vaibhav\",\"Durgad\",23,34.56,\"abc\"]"
   ]
  },
  {
   "cell_type": "code",
   "execution_count": 17,
   "id": "5e6caf39-5e7d-463d-a990-c1d5ce4d4191",
   "metadata": {},
   "outputs": [
    {
     "data": {
      "text/plain": [
       "[1, 2, 4, 4, 'vaibhav', 'Durgad', 23, 34.56, 'abc']"
      ]
     },
     "execution_count": 17,
     "metadata": {},
     "output_type": "execute_result"
    }
   ],
   "source": [
    "l"
   ]
  },
  {
   "cell_type": "code",
   "execution_count": 18,
   "id": "469db1cc-f110-4687-b04d-9a7b54a072e0",
   "metadata": {},
   "outputs": [],
   "source": [
    "l1=[]\n",
    "l2=[]\n",
    "for i in l:\n",
    "    if type(i) == int or type(i)== float:\n",
    "        l1.append(i)\n",
    "    else:\n",
    "        l2.append(i)"
   ]
  },
  {
   "cell_type": "code",
   "execution_count": 19,
   "id": "1ac0aefa-5ae5-4a71-b520-a7fb8a239171",
   "metadata": {},
   "outputs": [
    {
     "data": {
      "text/plain": [
       "[1, 2, 4, 4, 23, 34.56]"
      ]
     },
     "execution_count": 19,
     "metadata": {},
     "output_type": "execute_result"
    }
   ],
   "source": [
    "l1"
   ]
  },
  {
   "cell_type": "code",
   "execution_count": 20,
   "id": "294fb8ab-7847-40f6-926d-3704f156ed72",
   "metadata": {},
   "outputs": [
    {
     "data": {
      "text/plain": [
       "['vaibhav', 'Durgad', 'abc']"
      ]
     },
     "execution_count": 20,
     "metadata": {},
     "output_type": "execute_result"
    }
   ],
   "source": [
    "l2"
   ]
  },
  {
   "cell_type": "code",
   "execution_count": null,
   "id": "328b0bf6-e466-4f77-8e0a-eb957f972e4d",
   "metadata": {},
   "outputs": [],
   "source": []
  }
 ],
 "metadata": {
  "kernelspec": {
   "display_name": "Python 3 (ipykernel)",
   "language": "python",
   "name": "python3"
  },
  "language_info": {
   "codemirror_mode": {
    "name": "ipython",
    "version": 3
   },
   "file_extension": ".py",
   "mimetype": "text/x-python",
   "name": "python",
   "nbconvert_exporter": "python",
   "pygments_lexer": "ipython3",
   "version": "3.10.8"
  }
 },
 "nbformat": 4,
 "nbformat_minor": 5
}
